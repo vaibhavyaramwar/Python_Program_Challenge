{
 "cells": [
  {
   "cell_type": "code",
   "execution_count": 40,
   "metadata": {},
   "outputs": [],
   "source": [
    "import mysql.connector as connection\n",
    "import logging as log"
   ]
  },
  {
   "cell_type": "code",
   "execution_count": 41,
   "metadata": {},
   "outputs": [],
   "source": [
    "log.basicConfig(filename=\"SQLLog.log\",level=log.INFO,format=\"%(asctime)s %(message)s\")"
   ]
  },
  {
   "cell_type": "code",
   "execution_count": 42,
   "metadata": {},
   "outputs": [],
   "source": [
    "'''\n",
    "    create a database called as cardataset\n",
    "'''\n",
    "\n",
    "try:\n",
    "    \n",
    "    myDb = connection.connect(host=\"localhost\",port=5506,user=\"root\",password=\"mysql\",use_pure=True)\n",
    "    cursor=myDb.cursor()\n",
    "    cursor.execute(\"create database cardataset\")\n",
    "    log.info(\"Database : cardataset created\")\n",
    "    cursor.execute(\"show databases\")\n",
    "    log.info(\"Database Exists : \"+str(cursor.fetchall()))\n",
    "    cursor.close()\n",
    "    myDb.close()\n",
    "except Exception as e:\n",
    "    myDb.close()\n",
    "    log.error(\"Exception while creating database : \"+str(e))\n",
    "    print(e)"
   ]
  },
  {
   "cell_type": "code",
   "execution_count": 43,
   "metadata": {},
   "outputs": [],
   "source": [
    "'''\n",
    "    create a table called as car with a column name given in dataset description\n",
    "'''\n",
    "try:\n",
    "    \n",
    "    myDb = connection.connect(host=\"localhost\",port=5506,user=\"root\",password=\"mysql\",database=\"cardataset\",use_pure=True)\n",
    "    cursor=myDb.cursor()\n",
    "    cursor.execute(\"create table if not exists carData(buying   varchar(20),maint varchar(20),doors    varchar(20),persons  varchar(20),lug_boot varchar(20),safety   varchar(20),class     varchar(20))\")\n",
    "    log.info(\"Table carData created Successfully\")\n",
    "    cursor.execute(\"show tables\")\n",
    "    log.info(\"Table List : \"+str(cursor.fetchall()))\n",
    "    cursor.close()\n",
    "    myDb.close()\n",
    "except Exception as e:\n",
    "    myDb.close()\n",
    "    log.error(\"Exception while creating table : \"+str(e))"
   ]
  },
  {
   "cell_type": "code",
   "execution_count": 44,
   "metadata": {},
   "outputs": [],
   "source": [
    "'''\n",
    "    Dump all the data into car table \n",
    "'''\n",
    "import csv\n",
    "\n",
    "try:\n",
    "     myDb = connection.connect(host=\"localhost\",port=5506,user=\"root\",password=\"mysql\",database=\"cardataset\",use_pure=True)\n",
    "     \n",
    "     with open(\"car.data\",\"r\") as data: \n",
    "            carData = csv.reader(data,delimiter=\"\\n\")\n",
    "            for cData in carData:\n",
    "                #print(cData[0].split(\",\"))\n",
    "                cursor = myDb.cursor()\n",
    "                carData=(str(cData[0].split(\",\")))\n",
    "                #print(str(cData[0].split(\",\"))[1:len(carData)-1])\n",
    "                log.info('INSERT INTO cardata(buying,maint,doors,persons,lug_boot,safety,class) VALUES ({carData})'.format(carData=str(cData[0].split(\",\"))[1:len(carData)-1]))\n",
    "                cursor.execute('INSERT INTO cardata(buying,maint,doors,persons,lug_boot,safety,class) VALUES ({carData})'.format(carData=str(cData[0].split(\",\"))[1:len(carData)-1]))\n",
    "                log.info(\"Rowcount : \"+str(cursor.rowcount))\n",
    "                myDb.commit()\n",
    "except Exception as e:\n",
    "    log.error(\"Exception while inserting into cardata table : \"+str(e))"
   ]
  },
  {
   "cell_type": "code",
   "execution_count": 33,
   "metadata": {},
   "outputs": [],
   "source": [
    "'''\n",
    "    try to check weather all the data is aviable inside your table or not \n",
    "'''\n",
    "try:\n",
    "    myDb = connection.connect(host=\"localhost\",port=5506,user=\"root\",password=\"mysql\",database=\"cardataset\",use_pure=True)\n",
    "    cursor = myDb.cursor()\n",
    "    cursor.execute(\"select * from cardata\")\n",
    "    for result in cursor.fetchall():\n",
    "        log.info(\"select * from cardata\")\n",
    "        log.info(result)\n",
    "    myDb.close()\n",
    "except Exception as e:\n",
    "    myDb.close()\n",
    "    log.error(\"Exception while selecting cardata : \"+str(e))"
   ]
  },
  {
   "cell_type": "code",
   "execution_count": 34,
   "metadata": {},
   "outputs": [],
   "source": [
    "'''\n",
    "    try to group all the data with COL1 AND count occurences of each and every record based on col1 value \n",
    "'''\n",
    "try:\n",
    "    myDb = connection.connect(host=\"localhost\",port=5506,user=\"root\",password=\"mysql\",database=\"cardataset\",use_pure=True)\n",
    "    cursor = myDb.cursor()\n",
    "    cursor.execute(\"select buying,count(buying) from cardata group by buying\")\n",
    "    log.info(\"select buying,count(buying) from cardata group by buying\")\n",
    "        \n",
    "    for result in cursor.fetchall():\n",
    "        log.info(result)\n",
    "    myDb.close()\n",
    "except Exception as e:\n",
    "    myDb.close()\n",
    "    log.error(\"Exception while grouping data : \"+str(e))"
   ]
  },
  {
   "cell_type": "code",
   "execution_count": 35,
   "metadata": {},
   "outputs": [],
   "source": [
    "'''\n",
    "     Try to filter a record where col 3 value will be 4 .\n",
    "'''\n",
    "try:\n",
    "    myDb = connection.connect(host=\"localhost\",port=5506,user=\"root\",password=\"mysql\",database=\"cardataset\",use_pure=True)\n",
    "    cursor = myDb.cursor()\n",
    "    cursor.execute('select * from cardata where doors = \"4\"')\n",
    "    log.info('select * from cardata where doors = \"4\"')\n",
    "    for result in cursor.fetchall():\n",
    "        log.info(result)\n",
    "    myDb.close()\n",
    "except Exception as e:\n",
    "    myDb.close()\n",
    "    log.error(\"Exception while filtering cardata : \"+str(e))"
   ]
  },
  {
   "cell_type": "code",
   "execution_count": 36,
   "metadata": {},
   "outputs": [],
   "source": [
    "'''\n",
    "    Try to update a col 3 value with 8 whereever you have value equal to 2 \n",
    "'''\n",
    "\n",
    "try:\n",
    "    myDb = connection.connect(host=\"localhost\",port=5506,user=\"root\",password=\"mysql\",database=\"cardataset\",use_pure=True)\n",
    "    cursor = myDb.cursor()\n",
    "    cursor.execute('update cardata set doors = \"8\" where doors = \"2\"')\n",
    "    myDb.commit()\n",
    "    cursor.execute('select * from cardata where doors = \"8\"')\n",
    "    log.info('select * from cardata where doors = \"8\"')\n",
    "    for result in cursor.fetchall():\n",
    "        log.info(str(result))\n",
    "    myDb.close()\n",
    "except Exception as e:\n",
    "    myDb.close()\n",
    "    log.error(\"Exception while updating cardata : \"+str(e))"
   ]
  },
  {
   "cell_type": "code",
   "execution_count": 37,
   "metadata": {},
   "outputs": [],
   "source": [
    "'''\n",
    "    try to delete table \n",
    "'''\n",
    "\n",
    "try:\n",
    "    \n",
    "    myDb = connection.connect(host=\"localhost\",port=5506,user=\"root\",password=\"mysql\",database=\"cardataset\",use_pure=True)\n",
    "    cursor=myDb.cursor()\n",
    "    cursor.execute(\"drop table cardata\")\n",
    "    cursor.execute(\"show tables\")\n",
    "    log.info(\"table cardata dropped , current existing tables : \"+str(cursor.fetchall()))\n",
    "    cursor.close()\n",
    "    myDb.close()\n",
    "except Exception as e:\n",
    "    myDb.close()\n",
    "    log.error(\"Exception while dropping cardata tables : \"+str(e))"
   ]
  },
  {
   "cell_type": "code",
   "execution_count": 39,
   "metadata": {},
   "outputs": [],
   "source": [
    "'''\n",
    "    Try to delete database\n",
    "'''\n",
    "\n",
    "try:\n",
    "    \n",
    "    myDb = connection.connect(host=\"localhost\",port=5506,user=\"root\",password=\"mysql\",use_pure=True)\n",
    "    cursor=myDb.cursor()\n",
    "    cursor.execute(\"drop database cardataset\")\n",
    "    cursor.execute(\"show databases\")\n",
    "    log.info(\"Data base cardata dropped , current existing databases : \"+str(cursor.fetchall()))\n",
    "    cursor.close()\n",
    "    myDb.close()\n",
    "except Exception as e:\n",
    "    myDb.close()\n",
    "    log.error(\"Exception while dropping cardata database : \"+str(e))"
   ]
  },
  {
   "cell_type": "code",
   "execution_count": null,
   "metadata": {},
   "outputs": [],
   "source": []
  },
  {
   "cell_type": "code",
   "execution_count": null,
   "metadata": {},
   "outputs": [],
   "source": []
  },
  {
   "cell_type": "code",
   "execution_count": null,
   "metadata": {},
   "outputs": [],
   "source": []
  }
 ],
 "metadata": {
  "kernelspec": {
   "display_name": "Python 3",
   "language": "python",
   "name": "python3"
  },
  "language_info": {
   "codemirror_mode": {
    "name": "ipython",
    "version": 3
   },
   "file_extension": ".py",
   "mimetype": "text/x-python",
   "name": "python",
   "nbconvert_exporter": "python",
   "pygments_lexer": "ipython3",
   "version": "3.8.3"
  }
 },
 "nbformat": 4,
 "nbformat_minor": 4
}
